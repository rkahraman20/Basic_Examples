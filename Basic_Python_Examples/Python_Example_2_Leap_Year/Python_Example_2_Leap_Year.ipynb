{
 "cells": [
  {
   "cell_type": "code",
   "execution_count": 1,
   "id": "c6017290-434d-46e1-92f5-d9e5f21ce441",
   "metadata": {},
   "outputs": [
    {
     "name": "stdin",
     "output_type": "stream",
     "text": [
      "Please input any year to check whether it is a leap year:  1904\n"
     ]
    },
    {
     "name": "stdout",
     "output_type": "stream",
     "text": [
      "1904 is a leap year.\n"
     ]
    }
   ],
   "source": [
    "# Example_2_Leap_Year\n",
    "# Checks if any entered year is a leap year or not.\n",
    "\n",
    "year = int(input(\"Please input any year to check whether it is a leap year: \"))\n",
    "\n",
    "# If divided by 400 then it is a leap year.\n",
    "if (year % 400 == 0):\n",
    "    print(\"{0} is a leap year.\".format(year))\n",
    "\n",
    "# If divided by 4 but not divided by 100 means it is a leap year.\n",
    "elif (year % 4 == 0) and (year % 100 != 0):\n",
    "    print(\"{0} is a leap year.\".format(year))\n",
    "\n",
    "# If not divided by 400 but divided by 100 means it is not a leap year.\n",
    "elif (year % 400 != 0) and (year % 100 == 0):\n",
    "    print(\"{0} is not a leap year.\".format(year))\n",
    "\n",
    "# If not divided by 4 means it is not a leap year.\n",
    "else:\n",
    "    print(\"{0} is not a leap year.\".format(year))"
   ]
  },
  {
   "cell_type": "code",
   "execution_count": null,
   "id": "77e1acb1-4c5d-46af-a8f1-193f38b884a4",
   "metadata": {},
   "outputs": [],
   "source": []
  }
 ],
 "metadata": {
  "kernelspec": {
   "display_name": "Python 3 (ipykernel)",
   "language": "python",
   "name": "python3"
  },
  "language_info": {
   "codemirror_mode": {
    "name": "ipython",
    "version": 3
   },
   "file_extension": ".py",
   "mimetype": "text/x-python",
   "name": "python",
   "nbconvert_exporter": "python",
   "pygments_lexer": "ipython3",
   "version": "3.9.7"
  }
 },
 "nbformat": 4,
 "nbformat_minor": 5
}
