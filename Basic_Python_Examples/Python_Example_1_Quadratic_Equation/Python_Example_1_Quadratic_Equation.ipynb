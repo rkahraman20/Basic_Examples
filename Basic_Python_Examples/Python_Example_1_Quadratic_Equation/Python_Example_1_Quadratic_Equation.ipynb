{
 "cells": [
  {
   "cell_type": "code",
   "execution_count": 13,
   "id": "c043a692-7ff3-433e-bb16-b4bd4d8bf7a2",
   "metadata": {},
   "outputs": [
    {
     "name": "stdin",
     "output_type": "stream",
     "text": [
      "Please input the quadratic coefficient:  1\n",
      "Please input the linear coefficient:  0\n",
      "Please input the constant:  -16\n"
     ]
    },
    {
     "name": "stdout",
     "output_type": "stream",
     "text": [
      "The roots are -4.0 and 4.0\n"
     ]
    }
   ],
   "source": [
    "# Example_1_Quadratic_Equation\n",
    "# Solves the quadratic equation (a*x**2 + b*x + c = 0).\n",
    "\n",
    "import cmath\n",
    "\n",
    "a = int(input(\"Please input the quadratic coefficient: \"))\n",
    "b = int(input(\"Please input the linear coefficient: \"))\n",
    "c = int(input(\"Please input the constant: \"))\n",
    "\n",
    "# Calculates the discriminant.\n",
    "d = (b**2) - (4*a*c)\n",
    "\n",
    "# Finds two solutions.\n",
    "sol1 = (-b-cmath.sqrt(d))/(2*a)\n",
    "sol2 = (-b+cmath.sqrt(d))/(2*a)\n",
    "\n",
    "if d < 0:\n",
    "    print('The roots are {0} and {1}'.format(sol1, sol2))\n",
    "elif d == 0:\n",
    "    print('The root is {0}'.format(sol1.real))\n",
    "else:\n",
    "    print('The roots are {0} and {1}'.format(sol1.real, sol2.real))"
   ]
  },
  {
   "cell_type": "code",
   "execution_count": null,
   "id": "2a4023ed-e99a-45fc-b815-5686389ed6c4",
   "metadata": {},
   "outputs": [],
   "source": []
  }
 ],
 "metadata": {
  "kernelspec": {
   "display_name": "Python 3 (ipykernel)",
   "language": "python",
   "name": "python3"
  },
  "language_info": {
   "codemirror_mode": {
    "name": "ipython",
    "version": 3
   },
   "file_extension": ".py",
   "mimetype": "text/x-python",
   "name": "python",
   "nbconvert_exporter": "python",
   "pygments_lexer": "ipython3",
   "version": "3.9.7"
  }
 },
 "nbformat": 4,
 "nbformat_minor": 5
}
