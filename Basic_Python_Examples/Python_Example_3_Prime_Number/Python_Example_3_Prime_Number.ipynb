{
 "cells": [
  {
   "cell_type": "code",
   "execution_count": 2,
   "id": "c6017290-434d-46e1-92f5-d9e5f21ce441",
   "metadata": {},
   "outputs": [
    {
     "name": "stdout",
     "output_type": "stream",
     "text": [
      "Please input any number to check whether it is a prime number: 11\n",
      "11 is a prime number.\n"
     ]
    }
   ],
   "source": [
    "# Example_3_Prime_Number\n",
    "# Checks if any entered number is a prime number or not.\n",
    "\n",
    "num = int(input(\"Please input any number to check whether it is a prime number: \"))\n",
    "\n",
    "# Define a flag variable.\n",
    "flag = False\n",
    "\n",
    "# Prime numbers are greater than 1.\n",
    "if num > 1:\n",
    "    # Check for factors.\n",
    "    for i in range(2, num):\n",
    "        if (num % i) == 0:\n",
    "            # If factor is found, set flag to True.\n",
    "            flag = True\n",
    "            # Break out of loop.\n",
    "            break\n",
    "\n",
    "# Check if flag is True.\n",
    "if flag:\n",
    "    print(num, \"is not a prime number.\")\n",
    "else:\n",
    "    print(num, \"is a prime number.\")"
   ]
  }
 ],
 "metadata": {
  "kernelspec": {
   "display_name": "Python 3 (ipykernel)",
   "language": "python",
   "name": "python3"
  },
  "language_info": {
   "codemirror_mode": {
    "name": "ipython",
    "version": 3
   },
   "file_extension": ".py",
   "mimetype": "text/x-python",
   "name": "python",
   "nbconvert_exporter": "python",
   "pygments_lexer": "ipython3",
   "version": "3.9.7"
  }
 },
 "nbformat": 4,
 "nbformat_minor": 5
}
